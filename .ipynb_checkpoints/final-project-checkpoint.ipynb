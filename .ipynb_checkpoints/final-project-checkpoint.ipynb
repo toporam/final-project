{
 "cells": [
  {
   "cell_type": "markdown",
   "metadata": {},
   "source": [
    "# Final Project: Multivariate pattern generator and analyzer"
   ]
  },
  {
   "cell_type": "markdown",
   "metadata": {},
   "source": [
    "## Problem statement:\n",
    "The aim of this project is to simulate multivariate response patterns\n",
    "according to a pre-specified covariance matrix $\\Sigma$, and graphically represent \n",
    "the similarity relationships of the generated patterns according \n",
    "to a number of measures of similarity.\n",
    "\n",
    "1) A first goal is to \n",
    "demonstrate that similarity matrices that seem similar with respect to\n",
    "the rank-ordering of their entries can radically differ with regards to the\n",
    "the nature of the model used to generate the data. In other words, the aim is to show that naïvely focusing\n",
    "on the rank-ordering of the cells of similarity matrices can lead to erroneous \n",
    "conclusions regarding the underlying generating process.\n",
    "\n",
    "2) A second goal is \n",
    "to aid intuition when it comes to interpret the outcome of multivariate pattern analyses. This is done by\n",
    "facilitating the exploration of analysis results for parameter combinations flexibly specified by the user."
   ]
  },
  {
   "cell_type": "code",
   "execution_count": null,
   "metadata": {},
   "outputs": [],
   "source": [
    "# See present working directory"
   ]
  },
  {
   "cell_type": "code",
   "execution_count": null,
   "metadata": {},
   "outputs": [],
   "source": [
    "pwd"
   ]
  },
  {
   "cell_type": "code",
   "execution_count": null,
   "metadata": {},
   "outputs": [],
   "source": [
    "# Import libraries\n",
    "import matplotlib.pyplot as plt\n",
    "import numpy as np\n",
    "import pickle\n",
    "\n",
    "# Set flags and specify names for saving\n",
    "flag2save = 0 # 1 if generated data is to be saved, otherwise 0 \n",
    "name2save = 'simul_data.pkl' # Specify name2save\n",
    "\n",
    "flag2load = 0 # 1 if data is to be loaded instead of generated, otherwise 0 \n",
    "name2load = 'simul_data.pkl' # Specify name2load\n",
    "\n",
    "flag2save_figs = 0 # 1 if figures are to be saved, otherwise 0 \n",
    "name2save_fig1 = 'fig1.png' # Specify name2save figure 1\n",
    "name2save_fig2 = 'fig2.png' # Specify name2save figure 1\n",
    "\n",
    "# Initialize the random number generator from platform-dependent source of entropy\n",
    "np.random.seed(None)\n",
    "\n",
    "# Get state used as seed in random number generator\n",
    "rngs = np.random.get_state()"
   ]
  },
  {
   "cell_type": "markdown",
   "metadata": {},
   "source": [
    "## Define parameters of model used to generate data"
   ]
  },
  {
   "cell_type": "code",
   "execution_count": null,
   "metadata": {},
   "outputs": [],
   "source": [
    "# Parameters for both simulations below\n",
    "# Here, A) monotonic & B) mirror-symmetric codes\n",
    "n_ch = 1000 # Number of simulated measurement channels\n",
    "sf = 1 # Scaling factor. Scales entries in SIGMA"
   ]
  },
  {
   "cell_type": "code",
   "execution_count": null,
   "metadata": {},
   "outputs": [],
   "source": [
    "# Vector of means, one entry per experimental condition\n",
    "# v_mean = [0, 0, 0, 0, 0]\n",
    "v_mean = [0, 0.5, 1, 1.5, 2]\n",
    "# v_mean = [0, 1, 2, 1, 0]\n",
    "# v_mean = [2, 1, 0, 1, 2]\n",
    "\n",
    "# Vector specifying gain of patterns associated with each condition\n",
    "vxgain = [1, 1, 1, 1, 1]\n",
    "# vxgain = [1, 1.5, 2, 2.5, 3]\n",
    "# vxgain = [1, 2.2, 3, 2.2, 1]\n",
    "# vxgain = [3, 2.2, 1, 2.2, 3]"
   ]
  },
  {
   "cell_type": "markdown",
   "metadata": {},
   "source": [
    "### A) Monotonic code"
   ]
  },
  {
   "cell_type": "code",
   "execution_count": null,
   "metadata": {},
   "outputs": [],
   "source": [
    "# Generate patterns according to the theoretical covariance matrix\n",
    "# SIGMA. Here, SIGMA reflects a monotonic code reflecting the angular \n",
    "# disparity between different presentations of a specifc 3D object.\n",
    "\n",
    "SIGMA = [[1.00, 0.75, 0.50, 0.25, 0.00],\n",
    "           [0.75, 1.00, 0.75, 0.50, 0.25],\n",
    "           [0.50, 0.75, 1.00, 0.75, 0.50],\n",
    "           [0.25, 0.50, 0.75, 1.00, 0.75],\n",
    "           [0.00, 0.25, 0.50, 0.75, 1.00]\n",
    "        ]\n",
    "# Next, scale SIGMA. This will change the strenght of the signal component \n",
    "# associated with each pattern vector, as well as change the type of the\n",
    "# input (a list) into a numpy array\n",
    "\n",
    "SIGMA = np.multiply(SIGMA,sf)\n",
    "print(v_mean)\n",
    "print( )\n",
    "print(SIGMA)"
   ]
  },
  {
   "cell_type": "code",
   "execution_count": null,
   "metadata": {},
   "outputs": [],
   "source": [
    "# Make sure SIGMA, v_mean, and vxgain have the right dimensions (use Booleans)\n",
    "if len(SIGMA) != len(SIGMA.T) or len(SIGMA) != len(v_mean):\n",
    "    print('ERROR: dimensions of SIGMA not allowed')\n",
    "if (len(v_mean) != len(vxgain)) or (len(vxgain) != len(SIGMA)):\n",
    "    print('ERROR! dimensions of SIGMA, v_mean and/or vxmean do not match')"
   ]
  },
  {
   "cell_type": "markdown",
   "metadata": {},
   "source": [
    "## Generate multivariate Gaussian distributed random vectors"
   ]
  },
  {
   "cell_type": "code",
   "execution_count": null,
   "metadata": {},
   "outputs": [],
   "source": [
    "simul_data = np.random.multivariate_normal(v_mean,SIGMA,n_ch).T\n",
    "\n",
    "# Modulate response patterns for each condition\n",
    "simul_data[0] = simul_data[0]*vxgain[0]\n",
    "simul_data[1] = simul_data[1]*vxgain[1]\n",
    "simul_data[2] = simul_data[2]*vxgain[2]\n",
    "simul_data[3] = simul_data[3]*vxgain[3]\n",
    "simul_data[4] = simul_data[4]*vxgain[4]\n",
    "\n",
    "np.shape(simul_data)"
   ]
  },
  {
   "cell_type": "code",
   "execution_count": null,
   "metadata": {},
   "outputs": [],
   "source": [
    "if flag2save:\n",
    "    # Save simuation parameters and generated data.\n",
    "    with open(name2save, 'wb') as f:\n",
    "        pickle.dump([rngs, n_ch, v_mean, SIGMA, vxgain, simul_data], f)"
   ]
  },
  {
   "cell_type": "code",
   "execution_count": null,
   "metadata": {},
   "outputs": [],
   "source": [
    "print(np.shape(simul_data)) # n_rows, n_cols"
   ]
  },
  {
   "cell_type": "code",
   "execution_count": null,
   "metadata": {},
   "outputs": [],
   "source": [
    "def exists(var):\n",
    "     var_exists = var in locals() or var in globals()\n",
    "     return var_exists\n",
    "\n",
    "if flag2load:\n",
    "\n",
    "    del rngs, n_ch, v_mean, SIGMA, vxgain, simul_data # delete parameters and data\n",
    "    # Check if variabes were deleated\n",
    "\n",
    "# Check if variables were cleared\n",
    "print(exists(\"rngs\"))\n",
    "print(exists(\"n_ch\"))\n",
    "print(exists(\"v_mean\"))\n",
    "print(exists(\"SIGMA\"))\n",
    "print(exists(\"vxgain\"))"
   ]
  },
  {
   "cell_type": "code",
   "execution_count": null,
   "metadata": {},
   "outputs": [],
   "source": [
    "if flag2load:    \n",
    "    # Getting back the variables (parameters and data)\n",
    "    with open(name2load, 'rb') as f:\n",
    "        rngs, n_ch, v_mean, SIGMA, vxgain, simul_data = pickle.load(f)\n",
    "\n",
    "print(exists(\"rngs\"))\n",
    "print(exists(\"n_ch\"))\n",
    "print(exists(\"v_mean\"))\n",
    "print(exists(\"SIGMA\"))\n",
    "print(exists(\"vxgain\"))"
   ]
  },
  {
   "cell_type": "code",
   "execution_count": null,
   "metadata": {},
   "outputs": [],
   "source": [
    "print(np.shape(simul_data)) # (n_rows, n_cols)"
   ]
  },
  {
   "cell_type": "markdown",
   "metadata": {},
   "source": [
    "## Compute similarity and distance matrices"
   ]
  },
  {
   "cell_type": "markdown",
   "metadata": {},
   "source": [
    "### Define similarity and distance functions"
   ]
  },
  {
   "cell_type": "code",
   "execution_count": null,
   "metadata": {},
   "outputs": [],
   "source": [
    "# Compute empirical similarity matrix using the dot product as similarity function\n",
    "# Iterate over x1, ..., x5 using a nested for loop\n",
    "\n",
    "def compute_eSM_dot(simul_data):\n",
    "    \"\"\"\n",
    "    Computes empirical similarity (eSM) matrix according to the dot product\n",
    "    and returns n by n square symmetric matrix of pairwise similarities for all\n",
    "    pairs of input vectors.\n",
    "    Receives a matrix as input, were each column is one vector (or pattern)\n",
    "    \"\"\"\n",
    "        \n",
    "    eSM_dot  = np.zeros([len(simul_data),len(simul_data)])\n",
    "    for i in range(len(simul_data)):\n",
    "    \n",
    "        for j in range(len(simul_data)):\n",
    "            # compute dot product     \n",
    "            eSM_dot[i][j] = simul_data[i] @ simul_data[j]\n",
    "            \n",
    "    return eSM_dot"
   ]
  },
  {
   "cell_type": "code",
   "execution_count": null,
   "metadata": {},
   "outputs": [],
   "source": [
    "# Compute empirial dissimilarity matrix according to the Euclidean metric\n",
    "# Iterate over x1, ..., x5\n",
    "\n",
    "def compute_eDSM_euc(simul_data):\n",
    "    \"\"\"\n",
    "    Computes empirical dissimilarity matrix (eDSM) according to the Euclidean metric\n",
    "    and returns n by n square symmetric matrix of pairwise Euclidean distances for all\n",
    "    pairs of input vectors.\n",
    "    Receives a matrix as input, were each column is one vector (or pattern)\n",
    "    \"\"\"\n",
    "    \n",
    "    eDSM_euc  = np.zeros([len(simul_data),len(simul_data)])\n",
    "    for i in range(len(simul_data)):\n",
    "        \n",
    "        for j in range(len(simul_data)):    \n",
    "            # compute Euclidean dist\n",
    "            eDSM_euc[i][j] = np.sqrt(np.sum(np.square(simul_data[i] - simul_data[j]))) \n",
    "            \n",
    "    return eDSM_euc"
   ]
  },
  {
   "cell_type": "code",
   "execution_count": null,
   "metadata": {},
   "outputs": [],
   "source": [
    "# Compute empirial dissimilarity matrix according to the Cosine distance: 1 - cos(theta)\n",
    "# Iterate over x1, ..., x5\n",
    "\n",
    "def compute_eDSM_cos(simul_data):\n",
    "    \"\"\"\n",
    "    Computes empirical dissimilarity matrix (eDSM) according to the Cosine distance\n",
    "    and returns n by n square symmetric matrix of pairwise angular distances observed\n",
    "    between all pairs of input vectors\n",
    "    Receives a matrix as input, were each column is one vector (or pattern)\n",
    "    \"\"\"\n",
    "    \n",
    "    eDSM_cos = np.zeros([len(simul_data),len(simul_data)])\n",
    "    for i in range(len(simul_data)):\n",
    "        \n",
    "        for j in range(len(simul_data)):\n",
    "            # Compute cosine distance\n",
    "            eDSM_cos[i][j] = 1 - ((simul_data[i] @ simul_data[j]) / \n",
    "                                  (np.linalg.norm(simul_data[i]) * np.linalg.norm(simul_data[j]))\n",
    "                                 ) \n",
    "    return eDSM_cos"
   ]
  },
  {
   "cell_type": "markdown",
   "metadata": {},
   "source": [
    "## Compute and display matrices"
   ]
  },
  {
   "cell_type": "code",
   "execution_count": null,
   "metadata": {},
   "outputs": [],
   "source": [
    "eCOV = np.cov(simul_data) # compute pairwise covariances of simulated patterns --> empirical covariance matrix\n",
    "eSM_corr = np.corrcoef(simul_data) # compute pairwise correlations of simulated patterns --> empirical corr matrix\n",
    "eSM_dot  = compute_eSM_dot(simul_data)\n",
    "eDSM_euc = compute_eDSM_euc(simul_data)\n",
    "eDSM_cos = compute_eDSM_cos(simul_data)"
   ]
  },
  {
   "cell_type": "code",
   "execution_count": null,
   "metadata": {},
   "outputs": [],
   "source": [
    "# Plot mat_cov: theoretical covariance structure underlying the generation of the data\n",
    "plt.imshow(SIGMA)\n",
    "plt.colorbar()\n",
    "plt.title('Theoretical covariance: monotonic code')\n",
    "# plt.axis('off')\n",
    "plt.show()"
   ]
  },
  {
   "cell_type": "code",
   "execution_count": null,
   "metadata": {},
   "outputs": [],
   "source": [
    "# Plot eCOV: empirically observed covariance structure of simulated data\n",
    "plt.imshow(eCOV)\n",
    "plt.colorbar()\n",
    "plt.title('Empirical covariance: monotonic code')\n",
    "# plt.axis('off')\n",
    "plt.show()"
   ]
  },
  {
   "cell_type": "code",
   "execution_count": null,
   "metadata": {},
   "outputs": [],
   "source": [
    "# Show results \n",
    "fig, axs = plt.subplots(2,2)\n",
    "# fig.suptitle('Empirical Matrices')\n",
    "\n",
    "axs[0, 0].imshow(eSM_corr)\n",
    "axs[0, 0].set_title('eSM_corr')\n",
    "axs[0, 0].axis('off')\n",
    "\n",
    "axs[0, 1].imshow(eSM_dot)\n",
    "axs[0, 1].set_title('eSM_dot')\n",
    "axs[0, 1].axis('off')\n",
    "\n",
    "axs[1, 0].imshow(eDSM_cos)\n",
    "axs[1, 0].set_title('eDSM_cos')\n",
    "axs[1, 0].axis('off')\n",
    "\n",
    "axs[1, 1].imshow(eDSM_euc)\n",
    "axs[1, 1].set_title('eDSM_euc')\n",
    "axs[1, 1].axis('off')\n",
    "\n",
    "if flag2save_figs:\n",
    "    fig.savefig(name2save_fig1)"
   ]
  },
  {
   "cell_type": "markdown",
   "metadata": {},
   "source": [
    "## Define parameters of model used to generate data"
   ]
  },
  {
   "cell_type": "markdown",
   "metadata": {},
   "source": [
    "### B) Mirror-symmetric code"
   ]
  },
  {
   "cell_type": "code",
   "execution_count": null,
   "metadata": {},
   "outputs": [],
   "source": [
    "# Generate patterns conforming to covariance structure SIGMA --> mirror-symmetric\n",
    "# Used simple hack to define patterns\n",
    "# Note that v_mean and vxgain are inherited from definitions for simulation A) and \n",
    "# the patterns generated there are reused here.\n",
    "\n",
    "data_tau  = np.zeros([len(simul_data), n_ch])\n",
    "\n",
    "# Preserve cov, but allow different means across mirror-symmetric counterparts\n",
    "data_tau[0] = simul_data[0]\n",
    "data_tau[1] = simul_data[1]\n",
    "data_tau[2] = simul_data[2]\n",
    "data_tau[3] = simul_data[1]+(v_mean[3]-v_mean[1])\n",
    "data_tau[4] = simul_data[0]+(v_mean[4]-v_mean[0])\n",
    "\n",
    "data_tau[0] = data_tau[0]*vxgain[0]\n",
    "data_tau[1] = data_tau[1]*vxgain[1]\n",
    "data_tau[2] = data_tau[2]*vxgain[2]\n",
    "data_tau[3] = data_tau[3]*vxgain[3]\n",
    "data_tau[4] = data_tau[4]*vxgain[4]\n",
    "\n",
    "print(np.shape(data_tau)) # n_rows, n_cols"
   ]
  },
  {
   "cell_type": "code",
   "execution_count": null,
   "metadata": {},
   "outputs": [],
   "source": [
    "eCOV     = np.cov(data_tau) # compute pairwise covariances of simulated patterns\n",
    "eSM_corr = np.corrcoef(data_tau) # compute pairwise correlations of simulated patterns\n",
    "eSM_dot  = compute_eSM_dot(data_tau) # eSM_dot\n",
    "eDSM_euc = compute_eDSM_euc(data_tau) # eDSM_euc\n",
    "eDSM_cos = compute_eDSM_cos(data_tau) # eDSM_cos"
   ]
  },
  {
   "cell_type": "code",
   "execution_count": null,
   "metadata": {},
   "outputs": [],
   "source": [
    "# Plot mat_cov: theoretical covariance structure underlying the generation of the data\n",
    "plt.imshow(eCOV)\n",
    "plt.colorbar()\n",
    "plt.title('Theoretical covariance: mirror-symmetric code')\n",
    "# plt.axis('off')\n",
    "plt.show()"
   ]
  },
  {
   "cell_type": "code",
   "execution_count": null,
   "metadata": {},
   "outputs": [],
   "source": [
    "# Plot eCOV: empirically observed covariance structure of simulated data\n",
    "plt.imshow(eCOV)\n",
    "plt.colorbar()\n",
    "plt.title('Empirical covariance: mirror-symmetric code')\n",
    "# plt.axis('off')\n",
    "plt.show()"
   ]
  },
  {
   "cell_type": "code",
   "execution_count": null,
   "metadata": {},
   "outputs": [],
   "source": [
    "# Subplot showing all metrics, together\n",
    "fig, axs = plt.subplots(2,2)\n",
    "# fig.suptitle('Empirical Matrices')\n",
    "\n",
    "axs[0, 0].imshow(eSM_corr)\n",
    "axs[0, 0].set_title('eDSM_corr')\n",
    "axs[0, 0].axis('off')\n",
    "\n",
    "axs[0, 1].imshow(eSM_dot)\n",
    "axs[0, 1].set_title('eSM_dot')\n",
    "axs[0, 1].axis('off')\n",
    "\n",
    "axs[1, 0].imshow(eDSM_cos)\n",
    "axs[1, 0].set_title('eDSM_cos')\n",
    "axs[1, 0].axis('off')\n",
    "\n",
    "axs[1, 1].imshow(eDSM_euc)\n",
    "axs[1, 1].set_title('eDSM_euc')\n",
    "axs[1, 1].axis('off')\n",
    "\n",
    "if flag2save_figs:\n",
    "    fig.savefig(name2save_fig2)"
   ]
  },
  {
   "cell_type": "code",
   "execution_count": null,
   "metadata": {},
   "outputs": [],
   "source": [
    "# Next steps:\n",
    "# Add structured noise [P]\n",
    "# Implement data demeaning and various forms of normalization [P]"
   ]
  }
 ],
 "metadata": {
  "kernelspec": {
   "display_name": "Python 3",
   "language": "python",
   "name": "python3"
  },
  "language_info": {
   "codemirror_mode": {
    "name": "ipython",
    "version": 3
   },
   "file_extension": ".py",
   "mimetype": "text/x-python",
   "name": "python",
   "nbconvert_exporter": "python",
   "pygments_lexer": "ipython3",
   "version": "3.7.4"
  }
 },
 "nbformat": 4,
 "nbformat_minor": 4
}
